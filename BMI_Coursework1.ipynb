{
  "nbformat": 4,
  "nbformat_minor": 0,
  "metadata": {
    "colab": {
      "name": "BMI Coursework1.ipynb",
      "provenance": [],
      "collapsed_sections": [],
      "authorship_tag": "ABX9TyMhgdRaPSu2n3u2xhXRIugu",
      "include_colab_link": true
    },
    "kernelspec": {
      "name": "python3",
      "display_name": "Python 3"
    }
  },
  "cells": [
    {
      "cell_type": "markdown",
      "metadata": {
        "id": "view-in-github",
        "colab_type": "text"
      },
      "source": [
        "<a href=\"https://colab.research.google.com/github/yashrakeshmishra/LocalGeneAlignment/blob/master/BMI_Coursework1.ipynb\" target=\"_parent\"><img src=\"https://colab.research.google.com/assets/colab-badge.svg\" alt=\"Open In Colab\"/></a>"
      ]
    },
    {
      "cell_type": "markdown",
      "metadata": {
        "id": "0orVzArj2y1C",
        "colab_type": "text"
      },
      "source": [
        "# BMI Coursework 1\n",
        "\n",
        "###Question 1:\n",
        "> Align two sequences \"COELACANTH\" and \"PELICANIH\" using the Smith-Waterman algorithm. You may either write a program to locally align the two sequences or do it manually on the paper. You are NOT allowed to call the Smith-Waterman algorithm directly to get the result. You can choose any scoring matrix.\n",
        "\n",
        "\n",
        "\n",
        "\n"
      ]
    },
    {
      "cell_type": "markdown",
      "metadata": {
        "id": "XYHPKzO8c-ML",
        "colab_type": "text"
      },
      "source": [
        "### Solution 1:\n",
        "\n",
        "The problem was initially solved using the notes given in class. It involves three major steps. \n",
        "1. Generating the scoring matrix.\n",
        "2. Traceback\n",
        "3. Alignment\n",
        "\n",
        "The scoring scheme used was:\n",
        "\n",
        "*   Match : 4\n",
        "*   Gap : -2\n",
        "*Mismatch : -1\n",
        "\n",
        "\n",
        " "
      ]
    },
    {
      "cell_type": "code",
      "metadata": {
        "id": "APcV-DiU4J6o",
        "colab_type": "code",
        "colab": {}
      },
      "source": [
        "#importing libraries\n",
        "import numpy as np"
      ],
      "execution_count": 123,
      "outputs": []
    },
    {
      "cell_type": "code",
      "metadata": {
        "id": "bKGNU9Jx35PW",
        "colab_type": "code",
        "colab": {}
      },
      "source": [
        "#initialing two sequences\n",
        "sequence1 = 'COELACANTH'\n",
        "sequence2 = 'PELICANIH'"
      ],
      "execution_count": 124,
      "outputs": []
    },
    {
      "cell_type": "code",
      "metadata": {
        "id": "QMYTs9SF8Dmi",
        "colab_type": "code",
        "colab": {}
      },
      "source": [
        "#Declaring an enum class for easy access\n",
        "class score:\n",
        "  match = 4\n",
        "  gap = -2\n",
        "  mismatch = -1"
      ],
      "execution_count": 125,
      "outputs": []
    },
    {
      "cell_type": "markdown",
      "metadata": {
        "id": "QOfye4zC9uBG",
        "colab_type": "text"
      },
      "source": [
        "#### Defining important functions: \n"
      ]
    },
    {
      "cell_type": "code",
      "metadata": {
        "id": "Y3PcrFpe4VRW",
        "colab_type": "code",
        "colab": {}
      },
      "source": [
        "'''\n",
        "\n",
        "  Constructing the scoring matrix by using the scoring scheme mentioned above.\n",
        "  Return: Scoring Matrix and Direction Matrix for traceback.\n",
        "\n",
        "'''\n",
        "def getScoringMatrix(sequence1,sequence2):\n",
        "  length1 = len(sequence1)\n",
        "  length2 = len(sequence2)\n",
        "  scoringMatrix = np.zeros((length1+1,length2+1))\n",
        "  directionMatrix = np.zeros((length1+1,length2+1))\n",
        "  maxScore = 0\n",
        "  for i in range(1,length1+1):\n",
        "    for j in range(1,length2+1):\n",
        "      s = score()\n",
        "      verticalScore = scoringMatrix[i,j-1] + s.gap\n",
        "      horizontalScore = scoringMatrix[i-1,j] + s.gap\n",
        "      matchScore = scoringMatrix[i-1,j-1] + (s.match if sequence1[i-1] == sequence2[j-1] else s.mismatch)\n",
        "      scoringMatrix[i,j] = max(0,verticalScore, horizontalScore, matchScore)\n",
        "      if scoringMatrix[i,j] == verticalScore:\n",
        "        directionMatrix[i][j] = 2 #Means up\n",
        "      if scoringMatrix[i,j] == horizontalScore:\n",
        "        directionMatrix[i][j] = 1 #Means left\n",
        "      if scoringMatrix[i,j] == matchScore:\n",
        "        directionMatrix[i][j] = 3 #Means diagonally\n",
        "  return scoringMatrix, directionMatrix\n",
        "\n",
        "'''\n",
        "\n",
        "  Getting the index and value of the maximum element in the Scoring Matrix.\n",
        "  Return: index i, j and value of maximum score.\n",
        "\n",
        "'''\n",
        "def getMaxAttributes(scoreMatrix):\n",
        "  maxScore=0\n",
        "  for i in range(scoreMatrix.shape[0]):\n",
        "    for j in range(scoreMatrix.shape[1]):\n",
        "      if scoreMatrix[i][j] >= maxScore:\n",
        "        max_i = i\n",
        "        max_j = j\n",
        "        maxScore = scoreMatrix[i][j]\n",
        "  return max_i, max_j, maxScore\n",
        "\n",
        "'''\n",
        "\n",
        "  Traceback function is used for the correct alignment of the sequence depending\n",
        "  on the Direction Matrix and Score Matrix.\n",
        "  Return: Two aligned sequences.\n",
        "\n",
        "'''\n",
        "def traceback(scoreMatrix, directionMatrix, max_i, max_j, sequence1, sequence2):\n",
        "  align1 = ''\n",
        "  align2 = ''\n",
        "  while(directionMatrix[max_i][max_j] != 0):\n",
        "\n",
        "    if directionMatrix[max_i][max_j] == 3:\n",
        "      align1 = align1 + sequence1[max_i-1]\n",
        "      align2 = align2 + sequence2[max_j-1]\n",
        "      max_i = max_i - 1\n",
        "      max_j = max_j - 1\n",
        "\n",
        "    elif directionMatrix[max_i][max_j] == 2:\n",
        "      align1 = align1 + '-'\n",
        "      align2 = align2 + sequence2[max_j-1]\n",
        "      max_j = max_j - 1\n",
        "      \n",
        "    elif directionMatrix[max_i][max_j] == 1:\n",
        "      align1 = align1 + sequence1[max_i-1]\n",
        "      align2 = align2 + '-'\n",
        "      max_i = max_i - 1\n",
        "    \n",
        "    elif directionMatrix[max_i][max_j] == 0:\n",
        "      align1 = align1 + sequence1[max_i-1]\n",
        "      align2 = align2 + sequence2[max_j-1]\n",
        "      break\n",
        "\n",
        "  align1 = align1[::-1]\n",
        "  align2 = align2[::-1]\n",
        "  return align1, align2"
      ],
      "execution_count": 126,
      "outputs": []
    },
    {
      "cell_type": "markdown",
      "metadata": {
        "id": "ch0IIQHb-Hfo",
        "colab_type": "text"
      },
      "source": [
        "#### Presenting the results:"
      ]
    },
    {
      "cell_type": "code",
      "metadata": {
        "id": "a8TJQ0e78yqw",
        "colab_type": "code",
        "colab": {
          "base_uri": "https://localhost:8080/",
          "height": 136
        },
        "outputId": "3037a811-8f1c-4fdd-a8fb-d1170eb6e1b0"
      },
      "source": [
        "scoreMatrix,directionMatrix = getScoringMatrix(sequence1,sequence2)\n",
        "max_i , max_j, maxScore = getMaxAttributes(scoreMatrix)\n",
        "'''\n",
        "print(scoreMatrix)\n",
        "print(maxScore)\n",
        "print((max_i,max_j))\n",
        "'''\n",
        "\n",
        "alignment1 , alignment2 = traceback(scoreMatrix, directionMatrix, max_i,max_j,sequence1,sequence2)\n",
        "print(\"The sequences are: \")\n",
        "print(\"Sequence 1: \" + sequence1)\n",
        "print(\"Sequence 2: \" + sequence2)\n",
        "\n",
        "print(\"\\nThe optimal local alignment gives the output:   \")\n",
        "print(alignment1)\n",
        "print(alignment2)"
      ],
      "execution_count": 127,
      "outputs": [
        {
          "output_type": "stream",
          "text": [
            "The sequences are: \n",
            "Sequence 1: COELACANTH\n",
            "Sequence 2: PELICANIH\n",
            "\n",
            "The optimal local alignment gives the output:   \n",
            "ELACANTH\n",
            "ELICANIH\n"
          ],
          "name": "stdout"
        }
      ]
    }
  ]
}